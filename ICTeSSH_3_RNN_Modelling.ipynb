{
  "nbformat": 4,
  "nbformat_minor": 0,
  "metadata": {
    "colab": {
      "name": "ICTeSSH 3_RNN Modelling",
      "provenance": [],
      "collapsed_sections": []
    },
    "kernelspec": {
      "display_name": "Python 3",
      "name": "python3"
    },
    "language_info": {
      "name": "python"
    }
  },
  "cells": [
    {
      "cell_type": "markdown",
      "metadata": {
        "id": "55BAWG6I1vnw"
      },
      "source": [
        "RNN runs much faster on GPU than CPU due to its computational complexity. The following code is designed to run on Google Colab. To do so, please upload this notebook and 'clean data.csv' to your Google drive. \n",
        "\n",
        "The following code is inspired by 'Text classification with an RNN' tutorial, available on TensorFlow website. (https://www.tensorflow.org/text/tutorials/text_classification_rnn#stack_two_or_more_lstm_layers)"
      ]
    },
    {
      "cell_type": "code",
      "metadata": {
        "id": "kA-6idEZz91B"
      },
      "source": [
        "# Import packages\n",
        "import numpy as np\n",
        "import pandas as pd\n",
        "\n",
        "from sklearn.utils import shuffle\n",
        "\n",
        "import tensorflow_datasets as tfds\n",
        "import tensorflow as tf\n",
        "\n",
        "tfds.disable_progress_bar()\n",
        "\n",
        "from sklearn.model_selection import train_test_split\n",
        "import matplotlib.pyplot as plt"
      ],
      "execution_count": null,
      "outputs": []
    },
    {
      "cell_type": "code",
      "metadata": {
        "id": "JHuA5yKQ0D0P"
      },
      "source": [
        "# Access to person google drive, where dataset has been stored\n",
        "# Run the cell and follow the instructions \n",
        "from google.colab import drive\n",
        "drive.mount('/content/drive')"
      ],
      "execution_count": null,
      "outputs": []
    },
    {
      "cell_type": "markdown",
      "metadata": {
        "id": "C_K8NrzyJrEM"
      },
      "source": [
        "## Prepare Datasets"
      ]
    },
    {
      "cell_type": "code",
      "metadata": {
        "id": "9GV_yOyj0Ewp"
      },
      "source": [
        "# Import full cleaned dataset \n",
        "di=pd.read_csv('/content/drive/MyDrive/Colab Notebooks/cleaned dataset.csv')\n",
        "di=di[['full_text', 'created_at']]\n",
        "di.full_text=[str(i) for i in di.full_text]"
      ],
      "execution_count": null,
      "outputs": []
    },
    {
      "cell_type": "code",
      "metadata": {
        "id": "LVhbqDRq0FOJ"
      },
      "source": [
        "# Create dataset 1 which just has 3 time period\n",
        "da=di.copy()\n",
        "da=da[da.created_at.isin(['2021-04', '2020-10', '2020-04'])]\n",
        "\n",
        "# Create dataset 2 which just has 6 time period.\n",
        "db=di.copy()\n",
        "db=db[db.created_at.isin(['2021-04', '2020-10', '2020-04', '2019-10', '2019-04', '2018-10'])]\n",
        "\n",
        "# Create dataset 3 which just has 9 time period.\n",
        "dc=di.copy()\n"
      ],
      "execution_count": null,
      "outputs": []
    },
    {
      "cell_type": "code",
      "metadata": {
        "id": "-0V8IKZj0FZM"
      },
      "source": [
        "# Create a function to prepare the data set into train and test sets in tensorflow dataset format for RNN\n",
        "def prep_RNN(df):\n",
        "\n",
        "  df=shuffle(df)\n",
        "\n",
        "  # Get one hot encoding of columns B\n",
        "  one_hot = pd.get_dummies(df['created_at'])\n",
        "  # Drop column B as it is now encoded\n",
        "  df = df.drop('created_at',axis = 1)\n",
        "  df=pd.concat([df, one_hot], axis=1)\n",
        "\n",
        "  # define the y\n",
        "  target=df.drop('full_text', axis=1)\n",
        "\n",
        "  # convert the data set into tensorflow type\n",
        "  dataset = tf.data.Dataset.from_tensor_slices((df['full_text'].values, target.values))\n",
        "\n",
        "  # shuffle\n",
        "  shuffle_buffer_size=int(len(df)*1.2)\n",
        "  dataset=dataset.shuffle(shuffle_buffer_size)\n",
        "\n",
        "  # train test split\n",
        "  train_size=int(len(df)*0.8)\n",
        "  train_dataset = dataset.take(train_size)\n",
        "  test_dataset = dataset.skip(train_size)\n",
        "\n",
        "  # set batch size\n",
        "  batch_size = 32\n",
        "\n",
        "  # batch and prefetch to facilitate the following RNN processing \n",
        "  train_dataset = train_dataset.shuffle(shuffle_buffer_size).batch(batch_size).prefetch(tf.data.AUTOTUNE)\n",
        "  test_dataset = test_dataset.shuffle(shuffle_buffer_size).batch(batch_size).prefetch(tf.data.AUTOTUNE)\n",
        "\n",
        "  return train_dataset, test_dataset"
      ],
      "execution_count": null,
      "outputs": []
    },
    {
      "cell_type": "code",
      "metadata": {
        "id": "LBSKDUEzzzB2"
      },
      "source": [
        "# Prepare the data set\n",
        "d11, d12=prep_RNN(da)\n",
        "d21, d22 =prep_RNN(db)\n",
        "d31, d32 =prep_RNN(dc)"
      ],
      "execution_count": null,
      "outputs": []
    },
    {
      "cell_type": "code",
      "metadata": {
        "colab": {
          "base_uri": "https://localhost:8080/"
        },
        "id": "HbQl2ZyqGg6n",
        "outputId": "13491b40-ec33-418b-dfda-edc5a8ac3433"
      },
      "source": [
        "# Inspect a random sample\n",
        "for example, label in d32.take(1):\n",
        "  print('texts: ', example.numpy()[:3])\n",
        "  print()\n",
        "  print('labels: ', label.numpy()[:3])"
      ],
      "execution_count": null,
      "outputs": [
        {
          "output_type": "stream",
          "text": [
            "texts:  [b'study show reduce pcv vaccine dose safe effective uk first'\n",
            " b'discuss importance flu vaccine westminster'\n",
            " b'uk theyre go deliberately infect ppl covid name find vaccine wtf pass ethic approval']\n",
            "\n",
            "labels:  [[0 0 0 0 1 0 0 0 0]\n",
            " [0 1 0 0 0 0 0 0 0]\n",
            " [0 0 0 0 0 0 0 1 0]]\n"
          ],
          "name": "stdout"
        }
      ]
    },
    {
      "cell_type": "markdown",
      "metadata": {
        "id": "gNpcg41aJe3T"
      },
      "source": [
        "## Text Encoder"
      ]
    },
    {
      "cell_type": "code",
      "metadata": {
        "id": "TXSsSxAIzz-Y"
      },
      "source": [
        "# Build text encoder and train on dataset1\n",
        "VOCAB_SIZE = 10000\n",
        "encoder = tf.keras.layers.experimental.preprocessing.TextVectorization(\n",
        "    max_tokens=VOCAB_SIZE)\n",
        "# Make a text-only dataset (without labels), and call adapt\n",
        "encoder.adapt(d11.map(lambda text, label: text))\n"
      ],
      "execution_count": null,
      "outputs": []
    },
    {
      "cell_type": "code",
      "metadata": {
        "id": "CuGUPSWrxJok"
      },
      "source": [
        "# Build text encoder and train on dataset1\n",
        "VOCAB_SIZE = 10000\n",
        "encoder2 = tf.keras.layers.experimental.preprocessing.TextVectorization(\n",
        "    max_tokens=VOCAB_SIZE)\n",
        "encoder2.adapt(d21.map(lambda text, label: text))"
      ],
      "execution_count": null,
      "outputs": []
    },
    {
      "cell_type": "code",
      "metadata": {
        "id": "y0WuveakxJ26"
      },
      "source": [
        "# Build text encoder and train on dataset1\n",
        "VOCAB_SIZE = 10000\n",
        "encoder3 = tf.keras.layers.experimental.preprocessing.TextVectorization(\n",
        "    max_tokens=VOCAB_SIZE)\n",
        "encoder3.adapt(d31.map(lambda text, label: text))\n"
      ],
      "execution_count": null,
      "outputs": []
    },
    {
      "cell_type": "code",
      "metadata": {
        "id": "8HZElkHPxKDa"
      },
      "source": [
        ""
      ],
      "execution_count": null,
      "outputs": []
    },
    {
      "cell_type": "code",
      "metadata": {
        "colab": {
          "base_uri": "https://localhost:8080/"
        },
        "id": "ICx7DGINz0H7",
        "outputId": "5f8b30e4-6139-4546-e885-7a5cebac1bd5"
      },
      "source": [
        "# Check the most frequent words in dataset1\n",
        "vocab = np.array(encoder.get_vocabulary())\n",
        "vocab[:20]"
      ],
      "execution_count": null,
      "outputs": [
        {
          "output_type": "execute_result",
          "data": {
            "text/plain": [
              "array(['', '[UNK]', 'vaccine', 'uk', 'need', 'covid19', 'trial',\n",
              "       'coronavirus', 'covid', 'say', 'volunteer', 'test', 'infect',\n",
              "       'healthy', 'people', 'dont', 'u', 'world', 'study', 'full'],\n",
              "      dtype='<U106')"
            ]
          },
          "metadata": {
            "tags": []
          },
          "execution_count": 11
        }
      ]
    },
    {
      "cell_type": "code",
      "metadata": {
        "colab": {
          "base_uri": "https://localhost:8080/"
        },
        "id": "cmhYCI1uLWfl",
        "outputId": "4048fec2-0be5-496d-fa81-508404c91e73"
      },
      "source": [
        "# Check the most frequent words in dataset1\n",
        "vocab = np.array(encoder2.get_vocabulary())\n",
        "vocab[:20]"
      ],
      "execution_count": null,
      "outputs": [
        {
          "output_type": "execute_result",
          "data": {
            "text/plain": [
              "array(['', '[UNK]', 'vaccine', 'uk', 'flu', 'get', 'need', 'free',\n",
              "       'first', 'jab', 'people', 'trial', 'child', 'say', 'covid19',\n",
              "       'world', 'coronavirus', 'gp', 'year', 'covid'], dtype='<U106')"
            ]
          },
          "metadata": {
            "tags": []
          },
          "execution_count": 12
        }
      ]
    },
    {
      "cell_type": "code",
      "metadata": {
        "colab": {
          "base_uri": "https://localhost:8080/"
        },
        "id": "6KYpx3ioLWsK",
        "outputId": "ad157409-d1f4-426b-f2c0-9298683c9fb7"
      },
      "source": [
        "# Check the most frequent words in dataset1\n",
        "vocab = np.array(encoder3.get_vocabulary())\n",
        "vocab[:20]"
      ],
      "execution_count": null,
      "outputs": [
        {
          "output_type": "execute_result",
          "data": {
            "text/plain": [
              "array(['', '[UNK]', 'vaccine', 'flu', 'uk', 'get', 'jab', 'free',\n",
              "       'people', 'need', 'gp', 'child', 'say', 'protect', 'pharmacist',\n",
              "       'first', 'hpv', 'trial', 'cancer', 'disease'], dtype='<U106')"
            ]
          },
          "metadata": {
            "tags": []
          },
          "execution_count": 13
        }
      ]
    },
    {
      "cell_type": "code",
      "metadata": {
        "id": "bCNY--xm9d3o"
      },
      "source": [
        ""
      ],
      "execution_count": null,
      "outputs": []
    },
    {
      "cell_type": "markdown",
      "metadata": {
        "id": "00Wx9WauJmX2"
      },
      "source": [
        "## RNN Model"
      ]
    },
    {
      "cell_type": "code",
      "metadata": {
        "id": "8cz30XPQz0Z7"
      },
      "source": [
        "# Create RNN model for dataset 1\n",
        "model = tf.keras.Sequential([\n",
        "    encoder,\n",
        "    tf.keras.layers.Embedding(\n",
        "        input_dim=len(encoder.get_vocabulary()),\n",
        "        output_dim=64,\n",
        "        # Use masking to handle the variable sequence lengths\n",
        "        mask_zero=True),\n",
        "    tf.keras.layers.Bidirectional(tf.keras.layers.LSTM(64)),\n",
        "    tf.keras.layers.Dense(64, activation='relu'),\n",
        "    tf.keras.layers.Dense(3, activation='softmax') \n",
        "])"
      ],
      "execution_count": null,
      "outputs": []
    },
    {
      "cell_type": "code",
      "metadata": {
        "id": "tj5PAmiw5nhB"
      },
      "source": [
        "# Create RNN model for dataset 2\n",
        "model2= tf.keras.Sequential([\n",
        "    encoder,\n",
        "    tf.keras.layers.Embedding(\n",
        "        input_dim=len(encoder2.get_vocabulary()),\n",
        "        output_dim=64,\n",
        "        # Use masking to handle the variable sequence lengths\n",
        "        mask_zero=True),\n",
        "    tf.keras.layers.Bidirectional(tf.keras.layers.LSTM(64)),\n",
        "    tf.keras.layers.Dense(64, activation='relu'),\n",
        "    tf.keras.layers.Dense(6, activation='softmax') \n",
        "])"
      ],
      "execution_count": null,
      "outputs": []
    },
    {
      "cell_type": "code",
      "metadata": {
        "id": "crdAv54e5oGQ"
      },
      "source": [
        "# Create RNN model for dataset 3\n",
        "model3= tf.keras.Sequential([\n",
        "    encoder,\n",
        "    tf.keras.layers.Embedding(\n",
        "        input_dim=len(encoder3.get_vocabulary()),\n",
        "        output_dim=64,\n",
        "        # Use masking to handle the variable sequence lengths\n",
        "        mask_zero=True),\n",
        "    tf.keras.layers.Bidirectional(tf.keras.layers.LSTM(64)),\n",
        "    tf.keras.layers.Dense(64, activation='relu'),\n",
        "    tf.keras.layers.Dense(9, activation='softmax') \n",
        "])"
      ],
      "execution_count": null,
      "outputs": []
    },
    {
      "cell_type": "code",
      "metadata": {
        "id": "0fTsrB7w5vzC"
      },
      "source": [
        ""
      ],
      "execution_count": null,
      "outputs": []
    },
    {
      "cell_type": "code",
      "metadata": {
        "id": "Z0yAm4myz0it"
      },
      "source": [
        "# Complile model1\n",
        "model.compile(loss=tf.keras.losses.BinaryCrossentropy(from_logits=False),\n",
        "              optimizer=tf.keras.optimizers.Adam(1e-4),\n",
        "              metrics=['accuracy'])"
      ],
      "execution_count": null,
      "outputs": []
    },
    {
      "cell_type": "code",
      "metadata": {
        "id": "1HtfVHHv5_pX"
      },
      "source": [
        "# Complile model2\n",
        "model2.compile(loss=tf.keras.losses.BinaryCrossentropy(from_logits=False),\n",
        "              optimizer=tf.keras.optimizers.Adam(1e-4),\n",
        "              metrics=['accuracy'])"
      ],
      "execution_count": null,
      "outputs": []
    },
    {
      "cell_type": "code",
      "metadata": {
        "id": "jCXOuIKI5_z0"
      },
      "source": [
        "# Complile model3\n",
        "model3.compile(loss=tf.keras.losses.BinaryCrossentropy(from_logits=False),\n",
        "              optimizer=tf.keras.optimizers.Adam(1e-4),\n",
        "              metrics=['accuracy'])"
      ],
      "execution_count": null,
      "outputs": []
    },
    {
      "cell_type": "code",
      "metadata": {
        "id": "aFra1wp91Zcp"
      },
      "source": [
        "# Fit model1 with train data in dataset 1\n",
        "\n",
        "\n",
        "history = model.fit(d11, epochs=20, \n",
        "                    validation_data=d12,\n",
        "                    validation_steps=30)"
      ],
      "execution_count": null,
      "outputs": []
    },
    {
      "cell_type": "code",
      "metadata": {
        "id": "rsd5oEbM6JjL"
      },
      "source": [
        "# Fit model2 with train data in dataset 2\n",
        "history2 = model2.fit(d21, epochs=20,\n",
        "                    validation_data=d22,\n",
        "                    validation_steps=30)"
      ],
      "execution_count": null,
      "outputs": []
    },
    {
      "cell_type": "code",
      "metadata": {
        "id": "qYjsaIwl6Jyx"
      },
      "source": [
        "# Fit model3 with train data in dataset 3\n",
        "history3 = model3.fit(d31, epochs=20, \n",
        "                    validation_data=d32,\n",
        "                    validation_steps=30)"
      ],
      "execution_count": null,
      "outputs": []
    },
    {
      "cell_type": "code",
      "metadata": {
        "colab": {
          "base_uri": "https://localhost:8080/"
        },
        "id": "nmGmqb1M1RHS",
        "outputId": "381208fb-3440-46ee-e450-168d0709f56b"
      },
      "source": [
        "# Test model1(epoch=20) with test data from dataset 1\n",
        "test_loss, test_acc = model.evaluate(d12)\n",
        "\n",
        "print('Test Loss:', test_loss)\n",
        "print('Test Accuracy:', test_acc)"
      ],
      "execution_count": null,
      "outputs": [
        {
          "output_type": "stream",
          "text": [
            "12/12 [==============================] - 0s 14ms/step - loss: 0.3931 - accuracy: 0.8889\n",
            "Test Loss: 0.39310386776924133\n",
            "Test Accuracy: 0.8888888955116272\n"
          ],
          "name": "stdout"
        }
      ]
    },
    {
      "cell_type": "code",
      "metadata": {
        "colab": {
          "base_uri": "https://localhost:8080/"
        },
        "id": "alh2eXmP0uSn",
        "outputId": "9d46f4a0-ee9c-444b-96fb-7ba2fc5d1c6b"
      },
      "source": [
        "# Test model2(epoch=20) with test data from dataset 2\n",
        "test_loss, test_acc = model2.evaluate(d22)\n",
        "\n",
        "print('Test Loss:', test_loss)\n",
        "print('Test Accuracy:', test_acc)"
      ],
      "execution_count": null,
      "outputs": [
        {
          "output_type": "stream",
          "text": [
            "23/23 [==============================] - 0s 18ms/step - loss: 0.1744 - accuracy: 0.8458\n",
            "Test Loss: 0.1744062900543213\n",
            "Test Accuracy: 0.8458333611488342\n"
          ],
          "name": "stdout"
        }
      ]
    },
    {
      "cell_type": "code",
      "metadata": {
        "colab": {
          "base_uri": "https://localhost:8080/"
        },
        "id": "bgWqzbC51wM_",
        "outputId": "5fe60d59-ef92-4a4b-cee0-676bad22f45e"
      },
      "source": [
        "# Test model3(epoch=20) with test data from dataset 3\n",
        "test_loss, test_acc = model3.evaluate(d32)\n",
        "\n",
        "print('Test Loss:', test_loss)\n",
        "print('Test Accuracy:', test_acc)"
      ],
      "execution_count": null,
      "outputs": [
        {
          "output_type": "stream",
          "text": [
            "34/34 [==============================] - 1s 14ms/step - loss: 0.1299 - accuracy: 0.8130\n",
            "Test Loss: 0.12985555827617645\n",
            "Test Accuracy: 0.8129629492759705\n"
          ],
          "name": "stdout"
        }
      ]
    },
    {
      "cell_type": "code",
      "metadata": {
        "id": "4SVJ6mjb6qwN"
      },
      "source": [
        ""
      ],
      "execution_count": null,
      "outputs": []
    },
    {
      "cell_type": "code",
      "metadata": {
        "id": "3fMsXOc34xcg"
      },
      "source": [
        ""
      ],
      "execution_count": null,
      "outputs": []
    },
    {
      "cell_type": "markdown",
      "metadata": {
        "id": "WPxUDLsA4yEH"
      },
      "source": [
        "## Visualisation"
      ]
    },
    {
      "cell_type": "code",
      "metadata": {
        "id": "rzCTKjwW1ILv"
      },
      "source": [
        "# The graph function for accuracy and loss\n",
        "def plot_graphs(history, metric):\n",
        "  plt.plot(history.history[metric])\n",
        "  plt.plot(history.history['val_'+metric], '')\n",
        "  plt.xlabel(\"Epochs\")\n",
        "  plt.ylabel(metric)\n",
        "  plt.legend([metric, 'val_'+metric])"
      ],
      "execution_count": null,
      "outputs": []
    },
    {
      "cell_type": "code",
      "metadata": {
        "colab": {
          "base_uri": "https://localhost:8080/",
          "height": 388
        },
        "id": "QwsOiBJoq_6u",
        "outputId": "2717cc5d-c568-4f95-daf7-11c69c8f98ab"
      },
      "source": [
        "# Plot data set1\n",
        "\n",
        "plt.figure(figsize=(16, 6))\n",
        "plt.subplot(1, 2, 1)\n",
        "plot_graphs(history, 'accuracy')\n",
        "plt.subplot(1, 2, 2)\n",
        "plot_graphs(history, 'loss')"
      ],
      "execution_count": null,
      "outputs": [
        {
          "output_type": "display_data",
          "data": {
            "image/png": "[encoded data removed]",
            "text/plain": [
              "<Figure size 1152x432 with 2 Axes>"
            ]
          },
          "metadata": {
            "tags": [],
            "needs_background": "light"
          }
        }
      ]
    },
    {
      "cell_type": "code",
      "metadata": {
        "colab": {
          "base_uri": "https://localhost:8080/",
          "height": 388
        },
        "id": "dWzq_5or5nPH",
        "outputId": "3d0126cb-797a-40fe-c8c9-39f4fb78d91c"
      },
      "source": [
        "# Plot data set2\n",
        "plt.figure(figsize=(16, 6))\n",
        "plt.subplot(1, 2, 1)\n",
        "plot_graphs(history2, 'accuracy')\n",
        "plt.subplot(1, 2, 2)\n",
        "plot_graphs(history2, 'loss')"
      ],
      "execution_count": null,
      "outputs": [
        {
          "output_type": "display_data",
          "data": {
            "image/png": "[encoded data removed]",
            "text/plain": [
              "<Figure size 1152x432 with 2 Axes>"
            ]
          },
          "metadata": {
            "tags": [],
            "needs_background": "light"
          }
        }
      ]
    },
    {
      "cell_type": "code",
      "metadata": {
        "colab": {
          "base_uri": "https://localhost:8080/",
          "height": 388
        },
        "id": "YzsjWQ6p54Jp",
        "outputId": "3b2a6ced-c18d-4037-bcff-8f0c3dfa5511"
      },
      "source": [
        "# Plot data set3\n",
        "plt.figure(figsize=(16, 6))\n",
        "plt.subplot(1, 2, 1)\n",
        "plot_graphs(history3, 'accuracy')\n",
        "plt.subplot(1, 2, 2)\n",
        "plot_graphs(history3, 'loss')"
      ],
      "execution_count": null,
      "outputs": [
        {
          "output_type": "display_data",
          "data": {
            "image/png": "[encoded data removed]",
            "text/plain": [
              "<Figure size 1152x432 with 2 Axes>"
            ]
          },
          "metadata": {
            "tags": [],
            "needs_background": "light"
          }
        }
      ]
    },
    {
      "cell_type": "code",
      "metadata": {
        "id": "z6wCjN-G64Fw"
      },
      "source": [
        ""
      ],
      "execution_count": null,
      "outputs": []
    },
    {
      "cell_type": "markdown",
      "metadata": {
        "id": "_vIhCFgb5edl"
      },
      "source": [
        "Lastly, let's use the model to predict a piece of tweet text that I made myself.  "
      ]
    },
    {
      "cell_type": "code",
      "metadata": {
        "colab": {
          "base_uri": "https://localhost:8080/"
        },
        "id": "nqUXzUa945zE",
        "outputId": "ccd01a64-5d88-426f-a510-492a5ceec14c"
      },
      "source": [
        "# Create a random sentense and make prediction  \n",
        "sample_text = (['What if I got covid? I need a jab immediately.')\n",
        "predictions = model3.predict(np.array([sample_text]))\n",
        "predictions"
      ],
      "execution_count": null,
      "outputs": [
        {
          "output_type": "execute_result",
          "data": {
            "text/plain": [
              "array([[9.86243308e-01, 9.49914611e-05, 6.65819272e-04, 5.40881278e-03,\n",
              "        5.68056852e-03, 1.81902433e-03, 1.17695745e-05, 6.09596145e-06,\n",
              "        6.96353673e-05]], dtype=float32)"
            ]
          },
          "metadata": {
            "tags": []
          },
          "execution_count": 47
        }
      ]
    },
    {
      "cell_type": "code",
      "metadata": {
        "colab": {
          "base_uri": "https://localhost:8080/"
        },
        "id": "2yKBiTkc3HV_",
        "outputId": "babc480d-6cf6-4f84-fd1f-0aa8a1de75e4"
      },
      "source": [
        "# Transform the result  \n",
        "predictions=[round(i, 2) for i in predictions[0]]\n",
        "predictions\n"
      ],
      "execution_count": null,
      "outputs": [
        {
          "output_type": "execute_result",
          "data": {
            "text/plain": [
              "[0.99, 0.0, 0.0, 0.01, 0.01, 0.0, 0.0, 0.0, 0.0]"
            ]
          },
          "metadata": {
            "tags": []
          },
          "execution_count": 48
        }
      ]
    },
    {
      "cell_type": "code",
      "metadata": {
        "id": "OPAl8BPl0v67"
      },
      "source": [
        ""
      ],
      "execution_count": null,
      "outputs": []
    },
    {
      "cell_type": "code",
      "metadata": {
        "id": "xNJquFWs0wGH"
      },
      "source": [
        ""
      ],
      "execution_count": null,
      "outputs": []
    },
    {
      "cell_type": "code",
      "metadata": {
        "id": "A-zx9Cji0wP9"
      },
      "source": [
        ""
      ],
      "execution_count": null,
      "outputs": []
    },
    {
      "cell_type": "code",
      "metadata": {
        "id": "J_l-Q4D-0wZw"
      },
      "source": [
        ""
      ],
      "execution_count": null,
      "outputs": []
    },
    {
      "cell_type": "code",
      "metadata": {
        "id": "-gK3Snuf0wjU"
      },
      "source": [
        ""
      ],
      "execution_count": null,
      "outputs": []
    },
    {
      "cell_type": "code",
      "metadata": {
        "id": "9JDmMSfNvKZh"
      },
      "source": [
        ""
      ],
      "execution_count": null,
      "outputs": []
    },
    {
      "cell_type": "code",
      "metadata": {
        "id": "XukltnCD59GP"
      },
      "source": [
        ""
      ],
      "execution_count": null,
      "outputs": []
    },
    {
      "cell_type": "code",
      "metadata": {
        "id": "dFNNME5_LUod"
      },
      "source": [
        ""
      ],
      "execution_count": null,
      "outputs": []
    },
    {
      "cell_type": "code",
      "metadata": {
        "id": "wZhiJ0j03bAF"
      },
      "source": [
        ""
      ],
      "execution_count": null,
      "outputs": []
    },
    {
      "cell_type": "code",
      "metadata": {
        "id": "hyl8RrKz3b_L"
      },
      "source": [
        ""
      ],
      "execution_count": null,
      "outputs": []
    },
    {
      "cell_type": "code",
      "metadata": {
        "id": "8pgqzFY1xcsK"
      },
      "source": [
        ""
      ],
      "execution_count": null,
      "outputs": []
    },
    {
      "cell_type": "code",
      "metadata": {
        "id": "2rHuPLP852h1"
      },
      "source": [
        ""
      ],
      "execution_count": null,
      "outputs": []
    }
  ]
}